{
    "metadata": {
        "kernelspec": {
            "name": "SQL",
            "display_name": "SQL",
            "language": "sql"
        },
        "language_info": {
            "name": "sql",
            "version": ""
        }
    },
    "nbformat_minor": 2,
    "nbformat": 4,
    "cells": [
        {
            "cell_type": "markdown",
            "source": [
                "**Criação de uma tabela anual para agregar todos os arquivos .cvs de 2021**"
            ],
            "metadata": {
                "azdata_cell_guid": "c6bf7741-5661-4b35-af1a-80bf80615eac"
            },
            "attachments": {}
        },
        {
            "cell_type": "code",
            "source": [
                "-- CRIAR TABELA PARA ARMAZENAR TODOS OS DADOS DE 2021\r\n",
                "\r\n",
                "\r\n",
                "CREATE TABLE dbo.tripdata_divvy_2021\r\n",
                "(\r\n",
                "ride_id NVARCHAR(MAX),\r\n",
                "rideable_type NVARCHAR(MAX),\r\n",
                "started_at DATETIME2,\r\n",
                "ended_at DATETIME2,\r\n",
                "start_station_name NVARCHAR(MAX),\r\n",
                "start_station_id NVARCHAR(MAX),\r\n",
                "end_station_name NVARCHAR(MAX),\r\n",
                "end_station_id NVARCHAR(MAX),\r\n",
                "start_lat FLOAT,\r\n",
                "start_lng FLOAT,\r\n",
                "end_lat FLOAT,\r\n",
                "end_lng FLOAT,\r\n",
                "member_casual NVARCHAR(MAX),\r\n",
                "ride_length_s FLOAT,\r\n",
                "week_day FLOAT,\r\n",
                "y_month NVARCHAR(MAX),\r\n",
                ")\r\n",
                ""
            ],
            "metadata": {
                "azdata_cell_guid": "8a697bf0-4db5-47c1-a670-94a2646ab9a0",
                "language": "sql",
                "tags": [
                    "hide_input"
                ]
            },
            "outputs": [],
            "execution_count": null
        },
        {
            "cell_type": "markdown",
            "source": [
                "**Inserindo todos os dados provenientes das tabelas de janeiro a dezembro em nova nossa tabela anual para 2021**"
            ],
            "metadata": {
                "azdata_cell_guid": "c5152a55-8c33-4ec9-a1c1-a5bc3ad2e398"
            },
            "attachments": {}
        },
        {
            "cell_type": "code",
            "source": [
                "-- INSERIR DADOS NA TABELA CRIADA\r\n",
                "\r\n",
                "\r\n",
                "-- 1\r\n",
                "INSERT INTO dbo.tripdata_divvy_2021\r\n",
                "SELECT *,\r\n",
                "DATEDIFF(second, started_at, ended_at), -- Calcular tempo do passeio\r\n",
                "DATEPART(weekday, started_at), -- Calcular dia da semana, 1=Domingo, 7=Sábado\r\n",
                "'Jan' -- Mudar o mês a cada tabela\r\n",
                "FROM dbo.tripdata_divvy_2021_01 -- Repetir para cada tabela\r\n",
                "-- 2\r\n",
                "INSERT INTO dbo.tripdata_divvy_2021\r\n",
                "SELECT *,\r\n",
                "DATEDIFF(second, started_at, ended_at), -- Calcular tempo do passeio\r\n",
                "DATEPART(weekday, started_at), -- Calcular dia da semana, 1=Domingo, 7=Sábado\r\n",
                "'Fev' -- Mudar o mês a cada tabela\r\n",
                "FROM dbo.tripdata_divvy_2021_02 -- Repetir para cada tabela\r\n",
                "-- 3\r\n",
                "INSERT INTO dbo.tripdata_divvy_2021\r\n",
                "SELECT *,\r\n",
                "DATEDIFF(second, started_at, ended_at), -- Calcular tempo do passeio\r\n",
                "DATEPART(weekday, started_at), -- Calcular dia da semana, 1=Domingo, 7=Sábado\r\n",
                "'Mar' -- Mudar o mês a cada tabela\r\n",
                "FROM dbo.tripdata_divvy_2021_03 -- Repetir para cada tabela\r\n",
                "-- 4\r\n",
                "INSERT INTO dbo.tripdata_divvy_2021\r\n",
                "SELECT *,\r\n",
                "DATEDIFF(second, started_at, ended_at), -- Calcular tempo do passeio\r\n",
                "DATEPART(weekday, started_at), -- Calcular dia da semana, 1=Domingo, 7=Sábado\r\n",
                "'Abr' -- Mudar o mês a cada tabela\r\n",
                "FROM dbo.tripdata_divvy_2021_04 -- Repetir para cada tabela\r\n",
                "-- 5\r\n",
                "INSERT INTO dbo.tripdata_divvy_2021\r\n",
                "SELECT *,\r\n",
                "DATEDIFF(second, started_at, ended_at), -- Calcular tempo do passeio\r\n",
                "DATEPART(weekday, started_at), -- Calcular dia da semana, 1=Domingo, 7=Sábado\r\n",
                "'Mai' -- Mudar o mês a cada tabela\r\n",
                "FROM dbo.tripdata_divvy_2021_05 -- Repetir para cada tabela\r\n",
                "-- 6\r\n",
                "INSERT INTO dbo.tripdata_divvy_2021\r\n",
                "SELECT *,\r\n",
                "DATEDIFF(second, started_at, ended_at), -- Calcular tempo do passeio\r\n",
                "DATEPART(weekday, started_at), -- Calcular dia da semana, 1=Domingo, 7=Sábado\r\n",
                "'Jun' -- Mudar o mês a cada tabela\r\n",
                "FROM dbo.tripdata_divvy_2021_06 -- Repetir para cada tabela\r\n",
                "-- 7\r\n",
                "INSERT INTO dbo.tripdata_divvy_2021\r\n",
                "SELECT *,\r\n",
                "DATEDIFF(second, started_at, ended_at), -- Calcular tempo do passeio\r\n",
                "DATEPART(weekday, started_at), -- Calcular dia da semana, 1=Domingo, 7=Sábado\r\n",
                "'Jul' -- Mudar o mês a cada tabela\r\n",
                "FROM dbo.tripdata_divvy_2021_07 -- Repetir para cada tabela\r\n",
                "-- 8\r\n",
                "INSERT INTO dbo.tripdata_divvy_2021\r\n",
                "SELECT *,\r\n",
                "DATEDIFF(second, started_at, ended_at), -- Calcular tempo do passeio\r\n",
                "DATEPART(weekday, started_at), -- Calcular dia da semana, 1=Domingo, 7=Sábado\r\n",
                "'Ago' -- Mudar o mês a cada tabela\r\n",
                "FROM dbo.tripdata_divvy_2021_08 -- Repetir para cada tabela\r\n",
                "-- 9\r\n",
                "INSERT INTO dbo.tripdata_divvy_2021\r\n",
                "SELECT *,\r\n",
                "DATEDIFF(second, started_at, ended_at), -- Calcular tempo do passeio\r\n",
                "DATEPART(weekday, started_at), -- Calcular dia da semana, 1=Domingo, 7=Sábado\r\n",
                "'Set' -- Mudar o mês a cada tabela\r\n",
                "FROM dbo.tripdata_divvy_2021_09 -- Repetir para cada tabela\r\n",
                "-- 10\r\n",
                "INSERT INTO dbo.tripdata_divvy_2021\r\n",
                "SELECT *,\r\n",
                "DATEDIFF(second, started_at, ended_at), -- Calcular tempo do passeio\r\n",
                "DATEPART(weekday, started_at), -- Calcular dia da semana, 1=Domingo, 7=Sábado\r\n",
                "'Out' -- Mudar o mês a cada tabela\r\n",
                "FROM dbo.tripdata_divvy_2021_10 -- Repetir para cada tabela\r\n",
                "-- 11\r\n",
                "INSERT INTO dbo.tripdata_divvy_2021\r\n",
                "SELECT *,\r\n",
                "DATEDIFF(second, started_at, ended_at), -- Calcular tempo do passeio\r\n",
                "DATEPART(weekday, started_at), -- Calcular dia da semana, 1=Domingo, 7=Sábado\r\n",
                "'Nov' -- Mudar o mês a cada tabela\r\n",
                "FROM dbo.tripdata_divvy_2021_11 -- Repetir para cada tabela\r\n",
                "-- 12\r\n",
                "INSERT INTO dbo.tripdata_divvy_2021\r\n",
                "SELECT *,\r\n",
                "DATEDIFF(second, started_at, ended_at), -- Calcular tempo do passeio\r\n",
                "DATEPART(weekday, started_at), -- Calcular dia da semana, 1=Domingo, 7=Sábado\r\n",
                "'Dez' -- Mudar o mês a cada tabela\r\n",
                "FROM dbo.tripdata_divvy_2021_12 -- Repetir para cada tabela\r\n",
                ""
            ],
            "metadata": {
                "azdata_cell_guid": "ddcb2ed0-e9f9-4ce3-8b95-a2a6bbec301e",
                "language": "sql",
                "tags": [
                    "hide_input"
                ]
            },
            "outputs": [],
            "execution_count": null
        },
        {
            "cell_type": "markdown",
            "source": [
                "**Limpeza dos dados**"
            ],
            "metadata": {
                "azdata_cell_guid": "28759e91-5e1b-41a9-89f9-89c47eb67200"
            },
            "attachments": {}
        },
        {
            "cell_type": "code",
            "source": [
                "-- LIMPEZA DOS DADOS\r\n",
                "\r\n",
                "-- Verificar se existem valores digitados incorretamente.\r\n",
                "SELECT DISTINCT\r\n",
                "rideable_type\r\n",
                "FROM\r\n",
                "dbo.tripdata_divvy_2021\r\n",
                "SELECT DISTINCT\r\n",
                "member_casual\r\n",
                "FROM\r\n",
                "dbo.tripdata_divvy_2021\r\n",
                "\r\n",
                "-- Remover espaços em branco de todas as colunas que contém strings\r\n",
                "UPDATE\r\n",
                "dbo.tripdata_divvy_2021\r\n",
                "SET\r\n",
                "ride_id = TRIM(ride_id),\r\n",
                "start_station_name = TRIM(start_station_name),\r\n",
                "start_station_id = TRIM(start_station_id),\r\n",
                "end_station_name = TRIM(end_station_name),\r\n",
                "end_station_id = TRIM(end_station_id);\r\n",
                "\r\n",
                "-- Deletar todas as linhas que contenham valores nulos\r\n",
                "DELETE FROM dbo.tripdata_divvy_2021\r\n",
                "WHERE start_station_name IS NULL OR start_station_id IS NULL OR end_station_name IS\r\n",
                "NULL OR end_station_id IS NULL OR end_lat IS NULL OR end_lng IS NULL;\r\n",
                "\r\n",
                "-- Verificar se existem valores duplicados\r\n",
                "SELECT TOP 10\r\n",
                "ride_id,\r\n",
                "COUNT(ride_id) AS cont\r\n",
                "FROM\r\n",
                "dbo.tripdata_divvy_2021\r\n",
                "GROUP BY\r\n",
                "ride_id\r\n",
                "HAVING\r\n",
                "COUNT(ride_id) > 1;\r\n",
                "\r\n",
                "-- Deletar valores inferiores ou iguais a 60 segundos na coluna tempo de viagem\r\n",
                "DELETE FROM dbo.tripdata_divvy_2021\r\n",
                "WHERE\r\n",
                "ride_length_s <= 60"
            ],
            "metadata": {
                "azdata_cell_guid": "97af6168-d0cd-4d9c-a5fa-236999645a5e",
                "language": "sql",
                "tags": [
                    "hide_input"
                ]
            },
            "outputs": [],
            "execution_count": null
        }
    ]
}